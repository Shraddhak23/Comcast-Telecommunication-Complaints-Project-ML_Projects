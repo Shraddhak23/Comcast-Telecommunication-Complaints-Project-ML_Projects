{
 "cells": [
  {
   "cell_type": "markdown",
   "id": "a212156f-3986-466f-b104-f86f439958c7",
   "metadata": {},
   "source": [
    "## Comcast Telecommuniation Complaints Project"
   ]
  },
  {
   "cell_type": "code",
   "execution_count": 1,
   "id": "7154da00-9e9b-4ce7-8bd4-86d135fb1ce9",
   "metadata": {},
   "outputs": [],
   "source": [
    "# Importing libraries\n",
    "\n",
    "import numpy as np\n",
    "import pandas as pd\n",
    "import matplotlib.pyplot as plt\n",
    "%matplotlib inline\n",
    "import seaborn as sns"
   ]
  },
  {
   "cell_type": "markdown",
   "id": "c6004863-11d5-493f-82bc-abfa44729d46",
   "metadata": {},
   "source": [
    "# Task 1 : Import data into Python environment"
   ]
  },
  {
   "cell_type": "code",
   "execution_count": 2,
   "id": "246eeaca-e196-440a-8e5a-001c0dd5f7f6",
   "metadata": {},
   "outputs": [
    {
     "data": {
      "text/html": [
       "<div>\n",
       "<style scoped>\n",
       "    .dataframe tbody tr th:only-of-type {\n",
       "        vertical-align: middle;\n",
       "    }\n",
       "\n",
       "    .dataframe tbody tr th {\n",
       "        vertical-align: top;\n",
       "    }\n",
       "\n",
       "    .dataframe thead th {\n",
       "        text-align: right;\n",
       "    }\n",
       "</style>\n",
       "<table border=\"1\" class=\"dataframe\">\n",
       "  <thead>\n",
       "    <tr style=\"text-align: right;\">\n",
       "      <th></th>\n",
       "      <th>Ticket #</th>\n",
       "      <th>Customer Complaint</th>\n",
       "      <th>Date</th>\n",
       "      <th>Date_month_year</th>\n",
       "      <th>Time</th>\n",
       "      <th>Received Via</th>\n",
       "      <th>City</th>\n",
       "      <th>State</th>\n",
       "      <th>Zip code</th>\n",
       "      <th>Status</th>\n",
       "    </tr>\n",
       "  </thead>\n",
       "  <tbody>\n",
       "    <tr>\n",
       "      <th>0</th>\n",
       "      <td>250635</td>\n",
       "      <td>Comcast Cable Internet Speeds</td>\n",
       "      <td>22-04-15</td>\n",
       "      <td>22-Apr-15</td>\n",
       "      <td>3:53:50 PM</td>\n",
       "      <td>Customer Care Call</td>\n",
       "      <td>Abingdon</td>\n",
       "      <td>Maryland</td>\n",
       "      <td>21009</td>\n",
       "      <td>Closed</td>\n",
       "    </tr>\n",
       "    <tr>\n",
       "      <th>1</th>\n",
       "      <td>223441</td>\n",
       "      <td>Payment disappear - service got disconnected</td>\n",
       "      <td>04-08-15</td>\n",
       "      <td>04-Aug-15</td>\n",
       "      <td>10:22:56 AM</td>\n",
       "      <td>Internet</td>\n",
       "      <td>Acworth</td>\n",
       "      <td>Georgia</td>\n",
       "      <td>30102</td>\n",
       "      <td>Closed</td>\n",
       "    </tr>\n",
       "    <tr>\n",
       "      <th>2</th>\n",
       "      <td>242732</td>\n",
       "      <td>Speed and Service</td>\n",
       "      <td>18-04-15</td>\n",
       "      <td>18-Apr-15</td>\n",
       "      <td>9:55:47 AM</td>\n",
       "      <td>Internet</td>\n",
       "      <td>Acworth</td>\n",
       "      <td>Georgia</td>\n",
       "      <td>30101</td>\n",
       "      <td>Closed</td>\n",
       "    </tr>\n",
       "    <tr>\n",
       "      <th>3</th>\n",
       "      <td>277946</td>\n",
       "      <td>Comcast Imposed a New Usage Cap of 300GB that ...</td>\n",
       "      <td>05-07-15</td>\n",
       "      <td>05-Jul-15</td>\n",
       "      <td>11:59:35 AM</td>\n",
       "      <td>Internet</td>\n",
       "      <td>Acworth</td>\n",
       "      <td>Georgia</td>\n",
       "      <td>30101</td>\n",
       "      <td>Open</td>\n",
       "    </tr>\n",
       "    <tr>\n",
       "      <th>4</th>\n",
       "      <td>307175</td>\n",
       "      <td>Comcast not working and no service to boot</td>\n",
       "      <td>26-05-15</td>\n",
       "      <td>26-May-15</td>\n",
       "      <td>1:25:26 PM</td>\n",
       "      <td>Internet</td>\n",
       "      <td>Acworth</td>\n",
       "      <td>Georgia</td>\n",
       "      <td>30101</td>\n",
       "      <td>Solved</td>\n",
       "    </tr>\n",
       "    <tr>\n",
       "      <th>...</th>\n",
       "      <td>...</td>\n",
       "      <td>...</td>\n",
       "      <td>...</td>\n",
       "      <td>...</td>\n",
       "      <td>...</td>\n",
       "      <td>...</td>\n",
       "      <td>...</td>\n",
       "      <td>...</td>\n",
       "      <td>...</td>\n",
       "      <td>...</td>\n",
       "    </tr>\n",
       "    <tr>\n",
       "      <th>2219</th>\n",
       "      <td>213550</td>\n",
       "      <td>Service Availability</td>\n",
       "      <td>04-02-15</td>\n",
       "      <td>04-Feb-15</td>\n",
       "      <td>9:13:18 AM</td>\n",
       "      <td>Customer Care Call</td>\n",
       "      <td>Youngstown</td>\n",
       "      <td>Florida</td>\n",
       "      <td>32466</td>\n",
       "      <td>Closed</td>\n",
       "    </tr>\n",
       "    <tr>\n",
       "      <th>2220</th>\n",
       "      <td>318775</td>\n",
       "      <td>Comcast Monthly Billing for Returned Modem</td>\n",
       "      <td>06-02-15</td>\n",
       "      <td>06-Feb-15</td>\n",
       "      <td>1:24:39 PM</td>\n",
       "      <td>Customer Care Call</td>\n",
       "      <td>Ypsilanti</td>\n",
       "      <td>Michigan</td>\n",
       "      <td>48197</td>\n",
       "      <td>Solved</td>\n",
       "    </tr>\n",
       "    <tr>\n",
       "      <th>2221</th>\n",
       "      <td>331188</td>\n",
       "      <td>complaint about comcast</td>\n",
       "      <td>06-09-15</td>\n",
       "      <td>06-Sep-15</td>\n",
       "      <td>5:28:41 PM</td>\n",
       "      <td>Internet</td>\n",
       "      <td>Ypsilanti</td>\n",
       "      <td>Michigan</td>\n",
       "      <td>48197</td>\n",
       "      <td>Solved</td>\n",
       "    </tr>\n",
       "    <tr>\n",
       "      <th>2222</th>\n",
       "      <td>360489</td>\n",
       "      <td>Extremely unsatisfied Comcast customer</td>\n",
       "      <td>23-06-15</td>\n",
       "      <td>23-Jun-15</td>\n",
       "      <td>11:13:30 PM</td>\n",
       "      <td>Customer Care Call</td>\n",
       "      <td>Ypsilanti</td>\n",
       "      <td>Michigan</td>\n",
       "      <td>48197</td>\n",
       "      <td>Solved</td>\n",
       "    </tr>\n",
       "    <tr>\n",
       "      <th>2223</th>\n",
       "      <td>363614</td>\n",
       "      <td>Comcast, Ypsilanti MI Internet Speed</td>\n",
       "      <td>24-06-15</td>\n",
       "      <td>24-Jun-15</td>\n",
       "      <td>10:28:33 PM</td>\n",
       "      <td>Customer Care Call</td>\n",
       "      <td>Ypsilanti</td>\n",
       "      <td>Michigan</td>\n",
       "      <td>48198</td>\n",
       "      <td>Open</td>\n",
       "    </tr>\n",
       "  </tbody>\n",
       "</table>\n",
       "<p>2224 rows × 10 columns</p>\n",
       "</div>"
      ],
      "text/plain": [
       "     Ticket #                                 Customer Complaint      Date  \\\n",
       "0      250635                      Comcast Cable Internet Speeds  22-04-15   \n",
       "1      223441       Payment disappear - service got disconnected  04-08-15   \n",
       "2      242732                                  Speed and Service  18-04-15   \n",
       "3      277946  Comcast Imposed a New Usage Cap of 300GB that ...  05-07-15   \n",
       "4      307175         Comcast not working and no service to boot  26-05-15   \n",
       "...       ...                                                ...       ...   \n",
       "2219   213550                               Service Availability  04-02-15   \n",
       "2220   318775         Comcast Monthly Billing for Returned Modem  06-02-15   \n",
       "2221   331188                            complaint about comcast  06-09-15   \n",
       "2222   360489             Extremely unsatisfied Comcast customer  23-06-15   \n",
       "2223   363614               Comcast, Ypsilanti MI Internet Speed  24-06-15   \n",
       "\n",
       "     Date_month_year         Time        Received Via        City     State  \\\n",
       "0          22-Apr-15   3:53:50 PM  Customer Care Call    Abingdon  Maryland   \n",
       "1          04-Aug-15  10:22:56 AM            Internet     Acworth   Georgia   \n",
       "2          18-Apr-15   9:55:47 AM            Internet     Acworth   Georgia   \n",
       "3          05-Jul-15  11:59:35 AM            Internet     Acworth   Georgia   \n",
       "4          26-May-15   1:25:26 PM            Internet     Acworth   Georgia   \n",
       "...              ...          ...                 ...         ...       ...   \n",
       "2219       04-Feb-15   9:13:18 AM  Customer Care Call  Youngstown   Florida   \n",
       "2220       06-Feb-15   1:24:39 PM  Customer Care Call   Ypsilanti  Michigan   \n",
       "2221       06-Sep-15   5:28:41 PM            Internet   Ypsilanti  Michigan   \n",
       "2222       23-Jun-15  11:13:30 PM  Customer Care Call   Ypsilanti  Michigan   \n",
       "2223       24-Jun-15  10:28:33 PM  Customer Care Call   Ypsilanti  Michigan   \n",
       "\n",
       "      Zip code  Status  \n",
       "0        21009  Closed  \n",
       "1        30102  Closed  \n",
       "2        30101  Closed  \n",
       "3        30101    Open  \n",
       "4        30101  Solved  \n",
       "...        ...     ...  \n",
       "2219     32466  Closed  \n",
       "2220     48197  Solved  \n",
       "2221     48197  Solved  \n",
       "2222     48197  Solved  \n",
       "2223     48198    Open  \n",
       "\n",
       "[2224 rows x 10 columns]"
      ]
     },
     "execution_count": 2,
     "metadata": {},
     "output_type": "execute_result"
    }
   ],
   "source": [
    "# Loading dataset\n",
    "\n",
    "df = pd.read_csv('C:\\\\Users\\\\admin\\\\Documents\\\\Jupyter Notebook\\\\Comcast_telecom_complaints_data.csv')\n",
    "df"
   ]
  },
  {
   "cell_type": "code",
   "execution_count": 3,
   "id": "9662e558-efaf-4a6e-a0d8-2bf3c810828c",
   "metadata": {},
   "outputs": [
    {
     "data": {
      "text/html": [
       "<div>\n",
       "<style scoped>\n",
       "    .dataframe tbody tr th:only-of-type {\n",
       "        vertical-align: middle;\n",
       "    }\n",
       "\n",
       "    .dataframe tbody tr th {\n",
       "        vertical-align: top;\n",
       "    }\n",
       "\n",
       "    .dataframe thead th {\n",
       "        text-align: right;\n",
       "    }\n",
       "</style>\n",
       "<table border=\"1\" class=\"dataframe\">\n",
       "  <thead>\n",
       "    <tr style=\"text-align: right;\">\n",
       "      <th></th>\n",
       "      <th>Ticket #</th>\n",
       "      <th>Customer Complaint</th>\n",
       "      <th>Date</th>\n",
       "      <th>Date_month_year</th>\n",
       "      <th>Time</th>\n",
       "      <th>Received Via</th>\n",
       "      <th>City</th>\n",
       "      <th>State</th>\n",
       "      <th>Zip code</th>\n",
       "      <th>Status</th>\n",
       "    </tr>\n",
       "  </thead>\n",
       "  <tbody>\n",
       "    <tr>\n",
       "      <th>0</th>\n",
       "      <td>250635</td>\n",
       "      <td>Comcast Cable Internet Speeds</td>\n",
       "      <td>22-04-15</td>\n",
       "      <td>22-Apr-15</td>\n",
       "      <td>3:53:50 PM</td>\n",
       "      <td>Customer Care Call</td>\n",
       "      <td>Abingdon</td>\n",
       "      <td>Maryland</td>\n",
       "      <td>21009</td>\n",
       "      <td>Closed</td>\n",
       "    </tr>\n",
       "    <tr>\n",
       "      <th>1</th>\n",
       "      <td>223441</td>\n",
       "      <td>Payment disappear - service got disconnected</td>\n",
       "      <td>04-08-15</td>\n",
       "      <td>04-Aug-15</td>\n",
       "      <td>10:22:56 AM</td>\n",
       "      <td>Internet</td>\n",
       "      <td>Acworth</td>\n",
       "      <td>Georgia</td>\n",
       "      <td>30102</td>\n",
       "      <td>Closed</td>\n",
       "    </tr>\n",
       "    <tr>\n",
       "      <th>2</th>\n",
       "      <td>242732</td>\n",
       "      <td>Speed and Service</td>\n",
       "      <td>18-04-15</td>\n",
       "      <td>18-Apr-15</td>\n",
       "      <td>9:55:47 AM</td>\n",
       "      <td>Internet</td>\n",
       "      <td>Acworth</td>\n",
       "      <td>Georgia</td>\n",
       "      <td>30101</td>\n",
       "      <td>Closed</td>\n",
       "    </tr>\n",
       "    <tr>\n",
       "      <th>3</th>\n",
       "      <td>277946</td>\n",
       "      <td>Comcast Imposed a New Usage Cap of 300GB that ...</td>\n",
       "      <td>05-07-15</td>\n",
       "      <td>05-Jul-15</td>\n",
       "      <td>11:59:35 AM</td>\n",
       "      <td>Internet</td>\n",
       "      <td>Acworth</td>\n",
       "      <td>Georgia</td>\n",
       "      <td>30101</td>\n",
       "      <td>Open</td>\n",
       "    </tr>\n",
       "    <tr>\n",
       "      <th>4</th>\n",
       "      <td>307175</td>\n",
       "      <td>Comcast not working and no service to boot</td>\n",
       "      <td>26-05-15</td>\n",
       "      <td>26-May-15</td>\n",
       "      <td>1:25:26 PM</td>\n",
       "      <td>Internet</td>\n",
       "      <td>Acworth</td>\n",
       "      <td>Georgia</td>\n",
       "      <td>30101</td>\n",
       "      <td>Solved</td>\n",
       "    </tr>\n",
       "  </tbody>\n",
       "</table>\n",
       "</div>"
      ],
      "text/plain": [
       "  Ticket #                                 Customer Complaint      Date  \\\n",
       "0   250635                      Comcast Cable Internet Speeds  22-04-15   \n",
       "1   223441       Payment disappear - service got disconnected  04-08-15   \n",
       "2   242732                                  Speed and Service  18-04-15   \n",
       "3   277946  Comcast Imposed a New Usage Cap of 300GB that ...  05-07-15   \n",
       "4   307175         Comcast not working and no service to boot  26-05-15   \n",
       "\n",
       "  Date_month_year         Time        Received Via      City     State  \\\n",
       "0       22-Apr-15   3:53:50 PM  Customer Care Call  Abingdon  Maryland   \n",
       "1       04-Aug-15  10:22:56 AM            Internet   Acworth   Georgia   \n",
       "2       18-Apr-15   9:55:47 AM            Internet   Acworth   Georgia   \n",
       "3       05-Jul-15  11:59:35 AM            Internet   Acworth   Georgia   \n",
       "4       26-May-15   1:25:26 PM            Internet   Acworth   Georgia   \n",
       "\n",
       "   Zip code  Status  \n",
       "0     21009  Closed  \n",
       "1     30102  Closed  \n",
       "2     30101  Closed  \n",
       "3     30101    Open  \n",
       "4     30101  Solved  "
      ]
     },
     "execution_count": 3,
     "metadata": {},
     "output_type": "execute_result"
    }
   ],
   "source": [
    "# Retrive top records of DataFrame\n",
    "\n",
    "df.head()"
   ]
  },
  {
   "cell_type": "code",
   "execution_count": 4,
   "id": "bfaf3442-0ad3-441b-8973-62e3c45a653c",
   "metadata": {},
   "outputs": [
    {
     "data": {
      "text/plain": [
       "Ticket #              0\n",
       "Customer Complaint    0\n",
       "Date                  0\n",
       "Date_month_year       0\n",
       "Time                  0\n",
       "Received Via          0\n",
       "City                  0\n",
       "State                 0\n",
       "Zip code              0\n",
       "Status                0\n",
       "dtype: int64"
      ]
     },
     "execution_count": 4,
     "metadata": {},
     "output_type": "execute_result"
    }
   ],
   "source": [
    "# Detect missing values in dataset\n",
    "\n",
    "df.isnull().sum()"
   ]
  },
  {
   "cell_type": "markdown",
   "id": "6a9481dd-74e0-45c2-b237-6f28e31557b4",
   "metadata": {},
   "source": [
    "## Insights : From the above analysis, we can see there are no Nan values present in dataset"
   ]
  },
  {
   "cell_type": "code",
   "execution_count": 5,
   "id": "6adc4d8c-309e-4da9-8a2f-e49ced430f8e",
   "metadata": {},
   "outputs": [
    {
     "data": {
      "text/html": [
       "<div>\n",
       "<style scoped>\n",
       "    .dataframe tbody tr th:only-of-type {\n",
       "        vertical-align: middle;\n",
       "    }\n",
       "\n",
       "    .dataframe tbody tr th {\n",
       "        vertical-align: top;\n",
       "    }\n",
       "\n",
       "    .dataframe thead th {\n",
       "        text-align: right;\n",
       "    }\n",
       "</style>\n",
       "<table border=\"1\" class=\"dataframe\">\n",
       "  <thead>\n",
       "    <tr style=\"text-align: right;\">\n",
       "      <th></th>\n",
       "      <th>Ticket #</th>\n",
       "      <th>Customer Complaint</th>\n",
       "      <th>Date</th>\n",
       "      <th>Date_month_year</th>\n",
       "      <th>Time</th>\n",
       "      <th>Received Via</th>\n",
       "      <th>City</th>\n",
       "      <th>State</th>\n",
       "      <th>Zip code</th>\n",
       "      <th>Status</th>\n",
       "    </tr>\n",
       "  </thead>\n",
       "  <tbody>\n",
       "    <tr>\n",
       "      <th>count</th>\n",
       "      <td>2224</td>\n",
       "      <td>2224</td>\n",
       "      <td>2224</td>\n",
       "      <td>2224</td>\n",
       "      <td>2224</td>\n",
       "      <td>2224</td>\n",
       "      <td>2224</td>\n",
       "      <td>2224</td>\n",
       "      <td>2224.000000</td>\n",
       "      <td>2224</td>\n",
       "    </tr>\n",
       "    <tr>\n",
       "      <th>unique</th>\n",
       "      <td>2224</td>\n",
       "      <td>1841</td>\n",
       "      <td>91</td>\n",
       "      <td>91</td>\n",
       "      <td>2190</td>\n",
       "      <td>2</td>\n",
       "      <td>928</td>\n",
       "      <td>43</td>\n",
       "      <td>NaN</td>\n",
       "      <td>4</td>\n",
       "    </tr>\n",
       "    <tr>\n",
       "      <th>top</th>\n",
       "      <td>363934</td>\n",
       "      <td>Comcast</td>\n",
       "      <td>24-06-15</td>\n",
       "      <td>24-Jun-15</td>\n",
       "      <td>10:23:39 PM</td>\n",
       "      <td>Customer Care Call</td>\n",
       "      <td>Atlanta</td>\n",
       "      <td>Georgia</td>\n",
       "      <td>NaN</td>\n",
       "      <td>Solved</td>\n",
       "    </tr>\n",
       "    <tr>\n",
       "      <th>freq</th>\n",
       "      <td>1</td>\n",
       "      <td>83</td>\n",
       "      <td>218</td>\n",
       "      <td>218</td>\n",
       "      <td>2</td>\n",
       "      <td>1119</td>\n",
       "      <td>63</td>\n",
       "      <td>288</td>\n",
       "      <td>NaN</td>\n",
       "      <td>973</td>\n",
       "    </tr>\n",
       "    <tr>\n",
       "      <th>mean</th>\n",
       "      <td>NaN</td>\n",
       "      <td>NaN</td>\n",
       "      <td>NaN</td>\n",
       "      <td>NaN</td>\n",
       "      <td>NaN</td>\n",
       "      <td>NaN</td>\n",
       "      <td>NaN</td>\n",
       "      <td>NaN</td>\n",
       "      <td>47994.393435</td>\n",
       "      <td>NaN</td>\n",
       "    </tr>\n",
       "    <tr>\n",
       "      <th>std</th>\n",
       "      <td>NaN</td>\n",
       "      <td>NaN</td>\n",
       "      <td>NaN</td>\n",
       "      <td>NaN</td>\n",
       "      <td>NaN</td>\n",
       "      <td>NaN</td>\n",
       "      <td>NaN</td>\n",
       "      <td>NaN</td>\n",
       "      <td>28885.279427</td>\n",
       "      <td>NaN</td>\n",
       "    </tr>\n",
       "    <tr>\n",
       "      <th>min</th>\n",
       "      <td>NaN</td>\n",
       "      <td>NaN</td>\n",
       "      <td>NaN</td>\n",
       "      <td>NaN</td>\n",
       "      <td>NaN</td>\n",
       "      <td>NaN</td>\n",
       "      <td>NaN</td>\n",
       "      <td>NaN</td>\n",
       "      <td>1075.000000</td>\n",
       "      <td>NaN</td>\n",
       "    </tr>\n",
       "    <tr>\n",
       "      <th>25%</th>\n",
       "      <td>NaN</td>\n",
       "      <td>NaN</td>\n",
       "      <td>NaN</td>\n",
       "      <td>NaN</td>\n",
       "      <td>NaN</td>\n",
       "      <td>NaN</td>\n",
       "      <td>NaN</td>\n",
       "      <td>NaN</td>\n",
       "      <td>30056.500000</td>\n",
       "      <td>NaN</td>\n",
       "    </tr>\n",
       "    <tr>\n",
       "      <th>50%</th>\n",
       "      <td>NaN</td>\n",
       "      <td>NaN</td>\n",
       "      <td>NaN</td>\n",
       "      <td>NaN</td>\n",
       "      <td>NaN</td>\n",
       "      <td>NaN</td>\n",
       "      <td>NaN</td>\n",
       "      <td>NaN</td>\n",
       "      <td>37211.000000</td>\n",
       "      <td>NaN</td>\n",
       "    </tr>\n",
       "    <tr>\n",
       "      <th>75%</th>\n",
       "      <td>NaN</td>\n",
       "      <td>NaN</td>\n",
       "      <td>NaN</td>\n",
       "      <td>NaN</td>\n",
       "      <td>NaN</td>\n",
       "      <td>NaN</td>\n",
       "      <td>NaN</td>\n",
       "      <td>NaN</td>\n",
       "      <td>77058.750000</td>\n",
       "      <td>NaN</td>\n",
       "    </tr>\n",
       "    <tr>\n",
       "      <th>max</th>\n",
       "      <td>NaN</td>\n",
       "      <td>NaN</td>\n",
       "      <td>NaN</td>\n",
       "      <td>NaN</td>\n",
       "      <td>NaN</td>\n",
       "      <td>NaN</td>\n",
       "      <td>NaN</td>\n",
       "      <td>NaN</td>\n",
       "      <td>99223.000000</td>\n",
       "      <td>NaN</td>\n",
       "    </tr>\n",
       "  </tbody>\n",
       "</table>\n",
       "</div>"
      ],
      "text/plain": [
       "       Ticket # Customer Complaint      Date Date_month_year         Time  \\\n",
       "count      2224               2224      2224            2224         2224   \n",
       "unique     2224               1841        91              91         2190   \n",
       "top      363934            Comcast  24-06-15       24-Jun-15  10:23:39 PM   \n",
       "freq          1                 83       218             218            2   \n",
       "mean        NaN                NaN       NaN             NaN          NaN   \n",
       "std         NaN                NaN       NaN             NaN          NaN   \n",
       "min         NaN                NaN       NaN             NaN          NaN   \n",
       "25%         NaN                NaN       NaN             NaN          NaN   \n",
       "50%         NaN                NaN       NaN             NaN          NaN   \n",
       "75%         NaN                NaN       NaN             NaN          NaN   \n",
       "max         NaN                NaN       NaN             NaN          NaN   \n",
       "\n",
       "              Received Via     City    State      Zip code  Status  \n",
       "count                 2224     2224     2224   2224.000000    2224  \n",
       "unique                   2      928       43           NaN       4  \n",
       "top     Customer Care Call  Atlanta  Georgia           NaN  Solved  \n",
       "freq                  1119       63      288           NaN     973  \n",
       "mean                   NaN      NaN      NaN  47994.393435     NaN  \n",
       "std                    NaN      NaN      NaN  28885.279427     NaN  \n",
       "min                    NaN      NaN      NaN   1075.000000     NaN  \n",
       "25%                    NaN      NaN      NaN  30056.500000     NaN  \n",
       "50%                    NaN      NaN      NaN  37211.000000     NaN  \n",
       "75%                    NaN      NaN      NaN  77058.750000     NaN  \n",
       "max                    NaN      NaN      NaN  99223.000000     NaN  "
      ]
     },
     "execution_count": 5,
     "metadata": {},
     "output_type": "execute_result"
    }
   ],
   "source": [
    "# Lets describe ( Statistical Summary of DataFrame)\n",
    "\n",
    "df.describe(include = \"all\")"
   ]
  },
  {
   "cell_type": "code",
   "execution_count": 6,
   "id": "d17239c6-8f82-467d-9d0b-2566dfa38041",
   "metadata": {},
   "outputs": [
    {
     "name": "stdout",
     "output_type": "stream",
     "text": [
      "The Shape of Dataset is : (2224, 10)\n"
     ]
    }
   ],
   "source": [
    "# Shape\n",
    "\n",
    "print('The Shape of Dataset is :', df.shape)"
   ]
  },
  {
   "cell_type": "code",
   "execution_count": 7,
   "id": "19ea92c3-a976-4030-b08a-cc0fcb259fa6",
   "metadata": {},
   "outputs": [
    {
     "data": {
      "text/html": [
       "<div>\n",
       "<style scoped>\n",
       "    .dataframe tbody tr th:only-of-type {\n",
       "        vertical-align: middle;\n",
       "    }\n",
       "\n",
       "    .dataframe tbody tr th {\n",
       "        vertical-align: top;\n",
       "    }\n",
       "\n",
       "    .dataframe thead th {\n",
       "        text-align: right;\n",
       "    }\n",
       "</style>\n",
       "<table border=\"1\" class=\"dataframe\">\n",
       "  <thead>\n",
       "    <tr style=\"text-align: right;\">\n",
       "      <th></th>\n",
       "      <th>Customer Complaint</th>\n",
       "      <th>Date</th>\n",
       "      <th>Date_month_year</th>\n",
       "      <th>Received Via</th>\n",
       "      <th>City</th>\n",
       "      <th>State</th>\n",
       "      <th>Zip code</th>\n",
       "      <th>Status</th>\n",
       "    </tr>\n",
       "  </thead>\n",
       "  <tbody>\n",
       "    <tr>\n",
       "      <th>0</th>\n",
       "      <td>Comcast Cable Internet Speeds</td>\n",
       "      <td>22-04-15</td>\n",
       "      <td>22-Apr-15</td>\n",
       "      <td>Customer Care Call</td>\n",
       "      <td>Abingdon</td>\n",
       "      <td>Maryland</td>\n",
       "      <td>21009</td>\n",
       "      <td>Closed</td>\n",
       "    </tr>\n",
       "    <tr>\n",
       "      <th>1</th>\n",
       "      <td>Payment disappear - service got disconnected</td>\n",
       "      <td>04-08-15</td>\n",
       "      <td>04-Aug-15</td>\n",
       "      <td>Internet</td>\n",
       "      <td>Acworth</td>\n",
       "      <td>Georgia</td>\n",
       "      <td>30102</td>\n",
       "      <td>Closed</td>\n",
       "    </tr>\n",
       "    <tr>\n",
       "      <th>2</th>\n",
       "      <td>Speed and Service</td>\n",
       "      <td>18-04-15</td>\n",
       "      <td>18-Apr-15</td>\n",
       "      <td>Internet</td>\n",
       "      <td>Acworth</td>\n",
       "      <td>Georgia</td>\n",
       "      <td>30101</td>\n",
       "      <td>Closed</td>\n",
       "    </tr>\n",
       "    <tr>\n",
       "      <th>3</th>\n",
       "      <td>Comcast Imposed a New Usage Cap of 300GB that ...</td>\n",
       "      <td>05-07-15</td>\n",
       "      <td>05-Jul-15</td>\n",
       "      <td>Internet</td>\n",
       "      <td>Acworth</td>\n",
       "      <td>Georgia</td>\n",
       "      <td>30101</td>\n",
       "      <td>Open</td>\n",
       "    </tr>\n",
       "    <tr>\n",
       "      <th>4</th>\n",
       "      <td>Comcast not working and no service to boot</td>\n",
       "      <td>26-05-15</td>\n",
       "      <td>26-May-15</td>\n",
       "      <td>Internet</td>\n",
       "      <td>Acworth</td>\n",
       "      <td>Georgia</td>\n",
       "      <td>30101</td>\n",
       "      <td>Solved</td>\n",
       "    </tr>\n",
       "    <tr>\n",
       "      <th>...</th>\n",
       "      <td>...</td>\n",
       "      <td>...</td>\n",
       "      <td>...</td>\n",
       "      <td>...</td>\n",
       "      <td>...</td>\n",
       "      <td>...</td>\n",
       "      <td>...</td>\n",
       "      <td>...</td>\n",
       "    </tr>\n",
       "    <tr>\n",
       "      <th>2219</th>\n",
       "      <td>Service Availability</td>\n",
       "      <td>04-02-15</td>\n",
       "      <td>04-Feb-15</td>\n",
       "      <td>Customer Care Call</td>\n",
       "      <td>Youngstown</td>\n",
       "      <td>Florida</td>\n",
       "      <td>32466</td>\n",
       "      <td>Closed</td>\n",
       "    </tr>\n",
       "    <tr>\n",
       "      <th>2220</th>\n",
       "      <td>Comcast Monthly Billing for Returned Modem</td>\n",
       "      <td>06-02-15</td>\n",
       "      <td>06-Feb-15</td>\n",
       "      <td>Customer Care Call</td>\n",
       "      <td>Ypsilanti</td>\n",
       "      <td>Michigan</td>\n",
       "      <td>48197</td>\n",
       "      <td>Solved</td>\n",
       "    </tr>\n",
       "    <tr>\n",
       "      <th>2221</th>\n",
       "      <td>complaint about comcast</td>\n",
       "      <td>06-09-15</td>\n",
       "      <td>06-Sep-15</td>\n",
       "      <td>Internet</td>\n",
       "      <td>Ypsilanti</td>\n",
       "      <td>Michigan</td>\n",
       "      <td>48197</td>\n",
       "      <td>Solved</td>\n",
       "    </tr>\n",
       "    <tr>\n",
       "      <th>2222</th>\n",
       "      <td>Extremely unsatisfied Comcast customer</td>\n",
       "      <td>23-06-15</td>\n",
       "      <td>23-Jun-15</td>\n",
       "      <td>Customer Care Call</td>\n",
       "      <td>Ypsilanti</td>\n",
       "      <td>Michigan</td>\n",
       "      <td>48197</td>\n",
       "      <td>Solved</td>\n",
       "    </tr>\n",
       "    <tr>\n",
       "      <th>2223</th>\n",
       "      <td>Comcast, Ypsilanti MI Internet Speed</td>\n",
       "      <td>24-06-15</td>\n",
       "      <td>24-Jun-15</td>\n",
       "      <td>Customer Care Call</td>\n",
       "      <td>Ypsilanti</td>\n",
       "      <td>Michigan</td>\n",
       "      <td>48198</td>\n",
       "      <td>Open</td>\n",
       "    </tr>\n",
       "  </tbody>\n",
       "</table>\n",
       "<p>2224 rows × 8 columns</p>\n",
       "</div>"
      ],
      "text/plain": [
       "                                     Customer Complaint      Date  \\\n",
       "0                         Comcast Cable Internet Speeds  22-04-15   \n",
       "1          Payment disappear - service got disconnected  04-08-15   \n",
       "2                                     Speed and Service  18-04-15   \n",
       "3     Comcast Imposed a New Usage Cap of 300GB that ...  05-07-15   \n",
       "4            Comcast not working and no service to boot  26-05-15   \n",
       "...                                                 ...       ...   \n",
       "2219                               Service Availability  04-02-15   \n",
       "2220         Comcast Monthly Billing for Returned Modem  06-02-15   \n",
       "2221                            complaint about comcast  06-09-15   \n",
       "2222             Extremely unsatisfied Comcast customer  23-06-15   \n",
       "2223               Comcast, Ypsilanti MI Internet Speed  24-06-15   \n",
       "\n",
       "     Date_month_year        Received Via        City     State  Zip code  \\\n",
       "0          22-Apr-15  Customer Care Call    Abingdon  Maryland     21009   \n",
       "1          04-Aug-15            Internet     Acworth   Georgia     30102   \n",
       "2          18-Apr-15            Internet     Acworth   Georgia     30101   \n",
       "3          05-Jul-15            Internet     Acworth   Georgia     30101   \n",
       "4          26-May-15            Internet     Acworth   Georgia     30101   \n",
       "...              ...                 ...         ...       ...       ...   \n",
       "2219       04-Feb-15  Customer Care Call  Youngstown   Florida     32466   \n",
       "2220       06-Feb-15  Customer Care Call   Ypsilanti  Michigan     48197   \n",
       "2221       06-Sep-15            Internet   Ypsilanti  Michigan     48197   \n",
       "2222       23-Jun-15  Customer Care Call   Ypsilanti  Michigan     48197   \n",
       "2223       24-Jun-15  Customer Care Call   Ypsilanti  Michigan     48198   \n",
       "\n",
       "      Status  \n",
       "0     Closed  \n",
       "1     Closed  \n",
       "2     Closed  \n",
       "3       Open  \n",
       "4     Solved  \n",
       "...      ...  \n",
       "2219  Closed  \n",
       "2220  Solved  \n",
       "2221  Solved  \n",
       "2222  Solved  \n",
       "2223    Open  \n",
       "\n",
       "[2224 rows x 8 columns]"
      ]
     },
     "execution_count": 7,
     "metadata": {},
     "output_type": "execute_result"
    }
   ],
   "source": [
    "# Drop column Ticket and Time\n",
    "\n",
    "df = df.drop(['Ticket #','Time'],axis = 1)\n",
    "df"
   ]
  },
  {
   "cell_type": "markdown",
   "id": "c6ba8acc-ba57-445d-bffa-d99b7230e655",
   "metadata": {},
   "source": [
    "## Task 2 : Provide the trend chart for the number of complaints at Monthly and Daily granularity levels."
   ]
  },
  {
   "cell_type": "code",
   "execution_count": 8,
   "id": "da4e05e6-d22d-4833-9cdf-e852a6fcf358",
   "metadata": {},
   "outputs": [],
   "source": [
    "# Plot Monthly Chart"
   ]
  },
  {
   "cell_type": "code",
   "execution_count": 9,
   "id": "0a59c898-7890-4736-b052-12ab92789b3d",
   "metadata": {},
   "outputs": [],
   "source": [
    "# Convert string datetime into Python date time object\n",
    "\n",
    "df['Date_month_year'] = df['Date_month_year'].apply(pd.to_datetime)"
   ]
  },
  {
   "cell_type": "code",
   "execution_count": 10,
   "id": "c7d8ce6c-0110-4566-a8f2-f2705929a62a",
   "metadata": {},
   "outputs": [
    {
     "data": {
      "text/html": [
       "<div>\n",
       "<style scoped>\n",
       "    .dataframe tbody tr th:only-of-type {\n",
       "        vertical-align: middle;\n",
       "    }\n",
       "\n",
       "    .dataframe tbody tr th {\n",
       "        vertical-align: top;\n",
       "    }\n",
       "\n",
       "    .dataframe thead th {\n",
       "        text-align: right;\n",
       "    }\n",
       "</style>\n",
       "<table border=\"1\" class=\"dataframe\">\n",
       "  <thead>\n",
       "    <tr style=\"text-align: right;\">\n",
       "      <th></th>\n",
       "      <th>Customer Complaint</th>\n",
       "      <th>Date</th>\n",
       "      <th>Date_month_year</th>\n",
       "      <th>Received Via</th>\n",
       "      <th>City</th>\n",
       "      <th>State</th>\n",
       "      <th>Zip code</th>\n",
       "      <th>Status</th>\n",
       "    </tr>\n",
       "  </thead>\n",
       "  <tbody>\n",
       "    <tr>\n",
       "      <th>0</th>\n",
       "      <td>Comcast Cable Internet Speeds</td>\n",
       "      <td>22-04-15</td>\n",
       "      <td>2015-04-22</td>\n",
       "      <td>Customer Care Call</td>\n",
       "      <td>Abingdon</td>\n",
       "      <td>Maryland</td>\n",
       "      <td>21009</td>\n",
       "      <td>Closed</td>\n",
       "    </tr>\n",
       "    <tr>\n",
       "      <th>1</th>\n",
       "      <td>Payment disappear - service got disconnected</td>\n",
       "      <td>04-08-15</td>\n",
       "      <td>2015-08-04</td>\n",
       "      <td>Internet</td>\n",
       "      <td>Acworth</td>\n",
       "      <td>Georgia</td>\n",
       "      <td>30102</td>\n",
       "      <td>Closed</td>\n",
       "    </tr>\n",
       "    <tr>\n",
       "      <th>2</th>\n",
       "      <td>Speed and Service</td>\n",
       "      <td>18-04-15</td>\n",
       "      <td>2015-04-18</td>\n",
       "      <td>Internet</td>\n",
       "      <td>Acworth</td>\n",
       "      <td>Georgia</td>\n",
       "      <td>30101</td>\n",
       "      <td>Closed</td>\n",
       "    </tr>\n",
       "    <tr>\n",
       "      <th>3</th>\n",
       "      <td>Comcast Imposed a New Usage Cap of 300GB that ...</td>\n",
       "      <td>05-07-15</td>\n",
       "      <td>2015-07-05</td>\n",
       "      <td>Internet</td>\n",
       "      <td>Acworth</td>\n",
       "      <td>Georgia</td>\n",
       "      <td>30101</td>\n",
       "      <td>Open</td>\n",
       "    </tr>\n",
       "    <tr>\n",
       "      <th>4</th>\n",
       "      <td>Comcast not working and no service to boot</td>\n",
       "      <td>26-05-15</td>\n",
       "      <td>2015-05-26</td>\n",
       "      <td>Internet</td>\n",
       "      <td>Acworth</td>\n",
       "      <td>Georgia</td>\n",
       "      <td>30101</td>\n",
       "      <td>Solved</td>\n",
       "    </tr>\n",
       "    <tr>\n",
       "      <th>...</th>\n",
       "      <td>...</td>\n",
       "      <td>...</td>\n",
       "      <td>...</td>\n",
       "      <td>...</td>\n",
       "      <td>...</td>\n",
       "      <td>...</td>\n",
       "      <td>...</td>\n",
       "      <td>...</td>\n",
       "    </tr>\n",
       "    <tr>\n",
       "      <th>2219</th>\n",
       "      <td>Service Availability</td>\n",
       "      <td>04-02-15</td>\n",
       "      <td>2015-02-04</td>\n",
       "      <td>Customer Care Call</td>\n",
       "      <td>Youngstown</td>\n",
       "      <td>Florida</td>\n",
       "      <td>32466</td>\n",
       "      <td>Closed</td>\n",
       "    </tr>\n",
       "    <tr>\n",
       "      <th>2220</th>\n",
       "      <td>Comcast Monthly Billing for Returned Modem</td>\n",
       "      <td>06-02-15</td>\n",
       "      <td>2015-02-06</td>\n",
       "      <td>Customer Care Call</td>\n",
       "      <td>Ypsilanti</td>\n",
       "      <td>Michigan</td>\n",
       "      <td>48197</td>\n",
       "      <td>Solved</td>\n",
       "    </tr>\n",
       "    <tr>\n",
       "      <th>2221</th>\n",
       "      <td>complaint about comcast</td>\n",
       "      <td>06-09-15</td>\n",
       "      <td>2015-09-06</td>\n",
       "      <td>Internet</td>\n",
       "      <td>Ypsilanti</td>\n",
       "      <td>Michigan</td>\n",
       "      <td>48197</td>\n",
       "      <td>Solved</td>\n",
       "    </tr>\n",
       "    <tr>\n",
       "      <th>2222</th>\n",
       "      <td>Extremely unsatisfied Comcast customer</td>\n",
       "      <td>23-06-15</td>\n",
       "      <td>2015-06-23</td>\n",
       "      <td>Customer Care Call</td>\n",
       "      <td>Ypsilanti</td>\n",
       "      <td>Michigan</td>\n",
       "      <td>48197</td>\n",
       "      <td>Solved</td>\n",
       "    </tr>\n",
       "    <tr>\n",
       "      <th>2223</th>\n",
       "      <td>Comcast, Ypsilanti MI Internet Speed</td>\n",
       "      <td>24-06-15</td>\n",
       "      <td>2015-06-24</td>\n",
       "      <td>Customer Care Call</td>\n",
       "      <td>Ypsilanti</td>\n",
       "      <td>Michigan</td>\n",
       "      <td>48198</td>\n",
       "      <td>Open</td>\n",
       "    </tr>\n",
       "  </tbody>\n",
       "</table>\n",
       "<p>2224 rows × 8 columns</p>\n",
       "</div>"
      ],
      "text/plain": [
       "                                     Customer Complaint      Date  \\\n",
       "0                         Comcast Cable Internet Speeds  22-04-15   \n",
       "1          Payment disappear - service got disconnected  04-08-15   \n",
       "2                                     Speed and Service  18-04-15   \n",
       "3     Comcast Imposed a New Usage Cap of 300GB that ...  05-07-15   \n",
       "4            Comcast not working and no service to boot  26-05-15   \n",
       "...                                                 ...       ...   \n",
       "2219                               Service Availability  04-02-15   \n",
       "2220         Comcast Monthly Billing for Returned Modem  06-02-15   \n",
       "2221                            complaint about comcast  06-09-15   \n",
       "2222             Extremely unsatisfied Comcast customer  23-06-15   \n",
       "2223               Comcast, Ypsilanti MI Internet Speed  24-06-15   \n",
       "\n",
       "     Date_month_year        Received Via        City     State  Zip code  \\\n",
       "0         2015-04-22  Customer Care Call    Abingdon  Maryland     21009   \n",
       "1         2015-08-04            Internet     Acworth   Georgia     30102   \n",
       "2         2015-04-18            Internet     Acworth   Georgia     30101   \n",
       "3         2015-07-05            Internet     Acworth   Georgia     30101   \n",
       "4         2015-05-26            Internet     Acworth   Georgia     30101   \n",
       "...              ...                 ...         ...       ...       ...   \n",
       "2219      2015-02-04  Customer Care Call  Youngstown   Florida     32466   \n",
       "2220      2015-02-06  Customer Care Call   Ypsilanti  Michigan     48197   \n",
       "2221      2015-09-06            Internet   Ypsilanti  Michigan     48197   \n",
       "2222      2015-06-23  Customer Care Call   Ypsilanti  Michigan     48197   \n",
       "2223      2015-06-24  Customer Care Call   Ypsilanti  Michigan     48198   \n",
       "\n",
       "      Status  \n",
       "0     Closed  \n",
       "1     Closed  \n",
       "2     Closed  \n",
       "3       Open  \n",
       "4     Solved  \n",
       "...      ...  \n",
       "2219  Closed  \n",
       "2220  Solved  \n",
       "2221  Solved  \n",
       "2222  Solved  \n",
       "2223    Open  \n",
       "\n",
       "[2224 rows x 8 columns]"
      ]
     },
     "execution_count": 10,
     "metadata": {},
     "output_type": "execute_result"
    }
   ],
   "source": [
    "df"
   ]
  },
  {
   "cell_type": "code",
   "execution_count": 11,
   "id": "2b3be7e7-42a5-41bc-aadf-6f7d32c5e915",
   "metadata": {},
   "outputs": [
    {
     "data": {
      "text/html": [
       "<div>\n",
       "<style scoped>\n",
       "    .dataframe tbody tr th:only-of-type {\n",
       "        vertical-align: middle;\n",
       "    }\n",
       "\n",
       "    .dataframe tbody tr th {\n",
       "        vertical-align: top;\n",
       "    }\n",
       "\n",
       "    .dataframe thead th {\n",
       "        text-align: right;\n",
       "    }\n",
       "</style>\n",
       "<table border=\"1\" class=\"dataframe\">\n",
       "  <thead>\n",
       "    <tr style=\"text-align: right;\">\n",
       "      <th></th>\n",
       "      <th>Customer Complaint</th>\n",
       "      <th>Date</th>\n",
       "      <th>Received Via</th>\n",
       "      <th>City</th>\n",
       "      <th>State</th>\n",
       "      <th>Zip code</th>\n",
       "      <th>Status</th>\n",
       "    </tr>\n",
       "    <tr>\n",
       "      <th>Date_month_year</th>\n",
       "      <th></th>\n",
       "      <th></th>\n",
       "      <th></th>\n",
       "      <th></th>\n",
       "      <th></th>\n",
       "      <th></th>\n",
       "      <th></th>\n",
       "    </tr>\n",
       "  </thead>\n",
       "  <tbody>\n",
       "    <tr>\n",
       "      <th>2015-04-22</th>\n",
       "      <td>Comcast Cable Internet Speeds</td>\n",
       "      <td>22-04-15</td>\n",
       "      <td>Customer Care Call</td>\n",
       "      <td>Abingdon</td>\n",
       "      <td>Maryland</td>\n",
       "      <td>21009</td>\n",
       "      <td>Closed</td>\n",
       "    </tr>\n",
       "    <tr>\n",
       "      <th>2015-08-04</th>\n",
       "      <td>Payment disappear - service got disconnected</td>\n",
       "      <td>04-08-15</td>\n",
       "      <td>Internet</td>\n",
       "      <td>Acworth</td>\n",
       "      <td>Georgia</td>\n",
       "      <td>30102</td>\n",
       "      <td>Closed</td>\n",
       "    </tr>\n",
       "    <tr>\n",
       "      <th>2015-04-18</th>\n",
       "      <td>Speed and Service</td>\n",
       "      <td>18-04-15</td>\n",
       "      <td>Internet</td>\n",
       "      <td>Acworth</td>\n",
       "      <td>Georgia</td>\n",
       "      <td>30101</td>\n",
       "      <td>Closed</td>\n",
       "    </tr>\n",
       "    <tr>\n",
       "      <th>2015-07-05</th>\n",
       "      <td>Comcast Imposed a New Usage Cap of 300GB that ...</td>\n",
       "      <td>05-07-15</td>\n",
       "      <td>Internet</td>\n",
       "      <td>Acworth</td>\n",
       "      <td>Georgia</td>\n",
       "      <td>30101</td>\n",
       "      <td>Open</td>\n",
       "    </tr>\n",
       "    <tr>\n",
       "      <th>2015-05-26</th>\n",
       "      <td>Comcast not working and no service to boot</td>\n",
       "      <td>26-05-15</td>\n",
       "      <td>Internet</td>\n",
       "      <td>Acworth</td>\n",
       "      <td>Georgia</td>\n",
       "      <td>30101</td>\n",
       "      <td>Solved</td>\n",
       "    </tr>\n",
       "    <tr>\n",
       "      <th>...</th>\n",
       "      <td>...</td>\n",
       "      <td>...</td>\n",
       "      <td>...</td>\n",
       "      <td>...</td>\n",
       "      <td>...</td>\n",
       "      <td>...</td>\n",
       "      <td>...</td>\n",
       "    </tr>\n",
       "    <tr>\n",
       "      <th>2015-02-04</th>\n",
       "      <td>Service Availability</td>\n",
       "      <td>04-02-15</td>\n",
       "      <td>Customer Care Call</td>\n",
       "      <td>Youngstown</td>\n",
       "      <td>Florida</td>\n",
       "      <td>32466</td>\n",
       "      <td>Closed</td>\n",
       "    </tr>\n",
       "    <tr>\n",
       "      <th>2015-02-06</th>\n",
       "      <td>Comcast Monthly Billing for Returned Modem</td>\n",
       "      <td>06-02-15</td>\n",
       "      <td>Customer Care Call</td>\n",
       "      <td>Ypsilanti</td>\n",
       "      <td>Michigan</td>\n",
       "      <td>48197</td>\n",
       "      <td>Solved</td>\n",
       "    </tr>\n",
       "    <tr>\n",
       "      <th>2015-09-06</th>\n",
       "      <td>complaint about comcast</td>\n",
       "      <td>06-09-15</td>\n",
       "      <td>Internet</td>\n",
       "      <td>Ypsilanti</td>\n",
       "      <td>Michigan</td>\n",
       "      <td>48197</td>\n",
       "      <td>Solved</td>\n",
       "    </tr>\n",
       "    <tr>\n",
       "      <th>2015-06-23</th>\n",
       "      <td>Extremely unsatisfied Comcast customer</td>\n",
       "      <td>23-06-15</td>\n",
       "      <td>Customer Care Call</td>\n",
       "      <td>Ypsilanti</td>\n",
       "      <td>Michigan</td>\n",
       "      <td>48197</td>\n",
       "      <td>Solved</td>\n",
       "    </tr>\n",
       "    <tr>\n",
       "      <th>2015-06-24</th>\n",
       "      <td>Comcast, Ypsilanti MI Internet Speed</td>\n",
       "      <td>24-06-15</td>\n",
       "      <td>Customer Care Call</td>\n",
       "      <td>Ypsilanti</td>\n",
       "      <td>Michigan</td>\n",
       "      <td>48198</td>\n",
       "      <td>Open</td>\n",
       "    </tr>\n",
       "  </tbody>\n",
       "</table>\n",
       "<p>2224 rows × 7 columns</p>\n",
       "</div>"
      ],
      "text/plain": [
       "                                                Customer Complaint      Date  \\\n",
       "Date_month_year                                                                \n",
       "2015-04-22                           Comcast Cable Internet Speeds  22-04-15   \n",
       "2015-08-04            Payment disappear - service got disconnected  04-08-15   \n",
       "2015-04-18                                       Speed and Service  18-04-15   \n",
       "2015-07-05       Comcast Imposed a New Usage Cap of 300GB that ...  05-07-15   \n",
       "2015-05-26              Comcast not working and no service to boot  26-05-15   \n",
       "...                                                            ...       ...   \n",
       "2015-02-04                                    Service Availability  04-02-15   \n",
       "2015-02-06              Comcast Monthly Billing for Returned Modem  06-02-15   \n",
       "2015-09-06                                 complaint about comcast  06-09-15   \n",
       "2015-06-23                  Extremely unsatisfied Comcast customer  23-06-15   \n",
       "2015-06-24                    Comcast, Ypsilanti MI Internet Speed  24-06-15   \n",
       "\n",
       "                       Received Via        City     State  Zip code  Status  \n",
       "Date_month_year                                                              \n",
       "2015-04-22       Customer Care Call    Abingdon  Maryland     21009  Closed  \n",
       "2015-08-04                 Internet     Acworth   Georgia     30102  Closed  \n",
       "2015-04-18                 Internet     Acworth   Georgia     30101  Closed  \n",
       "2015-07-05                 Internet     Acworth   Georgia     30101    Open  \n",
       "2015-05-26                 Internet     Acworth   Georgia     30101  Solved  \n",
       "...                             ...         ...       ...       ...     ...  \n",
       "2015-02-04       Customer Care Call  Youngstown   Florida     32466  Closed  \n",
       "2015-02-06       Customer Care Call   Ypsilanti  Michigan     48197  Solved  \n",
       "2015-09-06                 Internet   Ypsilanti  Michigan     48197  Solved  \n",
       "2015-06-23       Customer Care Call   Ypsilanti  Michigan     48197  Solved  \n",
       "2015-06-24       Customer Care Call   Ypsilanti  Michigan     48198    Open  \n",
       "\n",
       "[2224 rows x 7 columns]"
      ]
     },
     "execution_count": 11,
     "metadata": {},
     "output_type": "execute_result"
    }
   ],
   "source": [
    "# Setting 'Date_month_year' as index\n",
    "\n",
    "df = df.set_index('Date_month_year')\n",
    "df"
   ]
  },
  {
   "cell_type": "code",
   "execution_count": 17,
   "id": "49f0543a-482a-42e7-aa79-ac704b0ee2d4",
   "metadata": {
    "scrolled": true
   },
   "outputs": [
    {
     "name": "stderr",
     "output_type": "stream",
     "text": [
      "C:\\Users\\admin\\AppData\\Local\\Temp\\ipykernel_14384\\3685269943.py:3: FutureWarning: 'M' is deprecated and will be removed in a future version, please use 'ME' instead.\n",
      "  months = df.groupby(pd.Grouper(freq=\"M\")).size().plot(color = 'g',linewidth=2)\n"
     ]
    },
    {
     "data": {
      "text/plain": [
       "Text(0.5, 1.0, 'Monthly Trend Chart')"
      ]
     },
     "execution_count": 17,
     "metadata": {},
     "output_type": "execute_result"
    },
    {
     "data": {
      "image/png": "[encoded data removed]",
      "text/plain": [
       "<Figure size 640x480 with 1 Axes>"
      ]
     },
     "metadata": {},
     "output_type": "display_data"
    }
   ],
   "source": [
    "# Plotting Monthly Chart\n",
    "\n",
    "months = df.groupby(pd.Grouper(freq=\"M\")).size().plot(color = 'g',linewidth=2)\n",
    "plt.xlabel('Months')\n",
    "plt.ylabel('Frequency')\n",
    "plt.title('Monthly Trend Chart')"
   ]
  },
  {
   "cell_type": "markdown",
   "id": "b3afad0b-aa37-4f17-bc37-c5035c2ddf70",
   "metadata": {},
   "source": [
    "## Insight : From the above trend chart, we can clearly see that complaints for the month of june 2015 are maximum."
   ]
  },
  {
   "cell_type": "code",
   "execution_count": 19,
   "id": "a06d8c94-66c0-47ce-a9cd-3bb4575b95d4",
   "metadata": {},
   "outputs": [
    {
     "data": {
      "text/plain": [
       "Date\n",
       "24-06-15    218\n",
       "23-06-15    190\n",
       "25-06-15     98\n",
       "26-06-15     55\n",
       "30-06-15     53\n",
       "29-06-15     51\n",
       "18-06-15     47\n",
       "06-12-15     43\n",
       "Name: count, dtype: int64"
      ]
     },
     "execution_count": 19,
     "metadata": {},
     "output_type": "execute_result"
    }
   ],
   "source": [
    "# Value_count() function is getting a series containing counts of unique values for date column\n",
    "\n",
    "df['Date'].value_counts(dropna = False) [:8]"
   ]
  },
  {
   "cell_type": "code",
   "execution_count": 21,
   "id": "24108c09-1771-450d-8b2c-00d61b27d649",
   "metadata": {},
   "outputs": [
    {
     "data": {
      "text/plain": [
       "Text(0.5, 1.0, 'Daily Trend Chart')"
      ]
     },
     "execution_count": 21,
     "metadata": {},
     "output_type": "execute_result"
    },
    {
     "data": {
      "image/png": "[encoded data removed]",
      "text/plain": [
       "<Figure size 500x500 with 1 Axes>"
      ]
     },
     "metadata": {},
     "output_type": "display_data"
    }
   ],
   "source": [
    "# Plotting Daily Chart\n",
    "\n",
    "df = df.sort_values(by=\"Date\")\n",
    "plt.figure(figsize=(5,5))\n",
    "df['Date'].value_counts().plot()\n",
    "plt.xlabel(\"Date\")\n",
    "plt.ylabel(\"Frequency\")\n",
    "plt.title(\"Daily Trend Chart\")"
   ]
  },
  {
   "cell_type": "code",
   "execution_count": 22,
   "id": "05f0cbbb-ef71-4d1f-b13f-f305f591c43b",
   "metadata": {},
   "outputs": [
    {
     "data": {
      "text/plain": [
       "Customer Complaint\n",
       "Comcast                     83\n",
       "Comcast Internet            18\n",
       "Comcast Data Cap            17\n",
       "comcast                     13\n",
       "Comcast Billing             11\n",
       "Comcast Data Caps           11\n",
       "Data Caps                   11\n",
       "Unfair Billing Practices     9\n",
       "Comcast data caps            8\n",
       "Name: count, dtype: int64"
      ]
     },
     "execution_count": 22,
     "metadata": {},
     "output_type": "execute_result"
    }
   ],
   "source": [
    "## Task : Provide a table with frequency of compliant type\n",
    "\n",
    "df['Customer Complaint'].value_counts(dropna = False)[:9]"
   ]
  },
  {
   "cell_type": "code",
   "execution_count": 26,
   "id": "913de1fd-db3f-404e-995e-9580bffff912",
   "metadata": {},
   "outputs": [
    {
     "data": {
      "text/plain": [
       "<Axes: xlabel='Customer Complaint'>"
      ]
     },
     "execution_count": 26,
     "metadata": {},
     "output_type": "execute_result"
    },
    {
     "data": {
      "image/png": "[encoded data removed]",
      "text/plain": [
       "<Figure size 640x480 with 1 Axes>"
      ]
     },
     "metadata": {},
     "output_type": "display_data"
    }
   ],
   "source": [
    "df['Customer Complaint'].value_counts(dropna=False)[:9].plot.bar()"
   ]
  },
  {
   "cell_type": "markdown",
   "id": "ddb524a4-d52f-400e-854b-00b3992a0f3c",
   "metadata": {},
   "source": [
    "## Task 3 : Which Complaint types are maximum i.e. around internet, newtwork issues pr across any other domains."
   ]
  },
  {
   "cell_type": "code",
   "execution_count": 31,
   "id": "e661104e-5512-4ab8-82df-509efea2047a",
   "metadata": {},
   "outputs": [],
   "source": [
    "internet_issue1 = df[df['Customer Complaint'].str.contains(\"network\")].count()\n",
    "internet_issue2 = df[df['Customer Complaint'].str.contains(\"Speed\")].count()\n",
    "internet_issue3 = df[df['Customer Complaint'].str.contains(\"data\")].count()\n",
    "\n",
    "billing_issue1 = df[df['Customer Complaint'].str.contains(\"bill\")].count()\n",
    "billing_issue2 = df[df['Customer Complaint'].str.contains(\"billing\")].count()\n",
    "billing_issue3 = df[df['Customer Complaint'].str.contains(\"charges\")].count()\n",
    "\n",
    "servies_issue1 = df[df['Customer Complaint'].str.contains(\"service\")].count()\n",
    "servies_issue2 = df[df['Customer Complaint'].str.contains(\"customer\")].count()"
   ]
  },
  {
   "cell_type": "code",
   "execution_count": 32,
   "id": "0a4fb56f-0e5c-4ed2-aafb-32372dee6abb",
   "metadata": {},
   "outputs": [
    {
     "name": "stdout",
     "output_type": "stream",
     "text": [
      "Customer Complaint    142\n",
      "Date                  142\n",
      "Received Via          142\n",
      "City                  142\n",
      "State                 142\n",
      "Zip code              142\n",
      "Status                142\n",
      "dtype: int64\n"
     ]
    }
   ],
   "source": [
    "Total_internet_issues = internet_issue1+internet_issue2+internet_issue3\n",
    "print(Total_internet_issues)"
   ]
  },
  {
   "cell_type": "code",
   "execution_count": 33,
   "id": "d4ccf535-3eb8-4ed1-bf5b-f796ec13660a",
   "metadata": {},
   "outputs": [
    {
     "name": "stdout",
     "output_type": "stream",
     "text": [
      "Customer Complaint    353\n",
      "Date                  353\n",
      "Received Via          353\n",
      "City                  353\n",
      "State                 353\n",
      "Zip code              353\n",
      "Status                353\n",
      "dtype: int64\n"
     ]
    }
   ],
   "source": [
    "Total_billing_issues = billing_issue1+billing_issue2 +billing_issue3\n",
    "print(Total_billing_issues)"
   ]
  },
  {
   "cell_type": "code",
   "execution_count": 34,
   "id": "a974c6a6-d60c-4c21-97c1-60e47721272e",
   "metadata": {},
   "outputs": [
    {
     "name": "stdout",
     "output_type": "stream",
     "text": [
      "Customer Complaint    360\n",
      "Date                  360\n",
      "Received Via          360\n",
      "City                  360\n",
      "State                 360\n",
      "Zip code              360\n",
      "Status                360\n",
      "dtype: int64\n"
     ]
    }
   ],
   "source": [
    "Total_services_issues = servies_issue1 + servies_issue2\n",
    "print(Total_services_issues)"
   ]
  },
  {
   "cell_type": "code",
   "execution_count": 35,
   "id": "09ec2367-bdf6-439d-b4aa-400236b7a1bc",
   "metadata": {},
   "outputs": [
    {
     "name": "stdout",
     "output_type": "stream",
     "text": [
      "Customer Complaint    1369\n",
      "Date                  1369\n",
      "Received Via          1369\n",
      "City                  1369\n",
      "State                 1369\n",
      "Zip code              1369\n",
      "Status                1369\n",
      "dtype: int64\n"
     ]
    }
   ],
   "source": [
    "Other_issues = 2224 - (Total_internet_issues+Total_billing_issues+Total_services_issues)\n",
    "print(Other_issues)"
   ]
  },
  {
   "cell_type": "markdown",
   "id": "d5438908-6088-4f89-8e92-95a124e47f64",
   "metadata": {},
   "source": [
    "## Insight : From the above analysis we can see other issues are maximum."
   ]
  },
  {
   "cell_type": "code",
   "execution_count": 36,
   "id": "bd0df4ed-2f55-4830-b0db-866013017cf6",
   "metadata": {},
   "outputs": [],
   "source": [
    "# Create a new categorical variable with value as 'Open' and 'Closed'. \n",
    "# Open and Pending is to be categorizes as Open and Solved and Closed are categorized to be Closed."
   ]
  },
  {
   "cell_type": "code",
   "execution_count": 38,
   "id": "2a560eef-0e5c-4a35-95de-0d15dd09786a",
   "metadata": {},
   "outputs": [
    {
     "data": {
      "text/plain": [
       "array(['Closed', 'Open', 'Solved', 'Pending'], dtype=object)"
      ]
     },
     "execution_count": 38,
     "metadata": {},
     "output_type": "execute_result"
    }
   ],
   "source": [
    "df.Status.unique()"
   ]
  },
  {
   "cell_type": "code",
   "execution_count": 40,
   "id": "9a6648b5-77a0-4faa-8973-37c46026a9bb",
   "metadata": {},
   "outputs": [
    {
     "data": {
      "text/html": [
       "<div>\n",
       "<style scoped>\n",
       "    .dataframe tbody tr th:only-of-type {\n",
       "        vertical-align: middle;\n",
       "    }\n",
       "\n",
       "    .dataframe tbody tr th {\n",
       "        vertical-align: top;\n",
       "    }\n",
       "\n",
       "    .dataframe thead th {\n",
       "        text-align: right;\n",
       "    }\n",
       "</style>\n",
       "<table border=\"1\" class=\"dataframe\">\n",
       "  <thead>\n",
       "    <tr style=\"text-align: right;\">\n",
       "      <th></th>\n",
       "      <th>Customer Complaint</th>\n",
       "      <th>Date</th>\n",
       "      <th>Received Via</th>\n",
       "      <th>City</th>\n",
       "      <th>State</th>\n",
       "      <th>Zip code</th>\n",
       "      <th>New_Status</th>\n",
       "    </tr>\n",
       "    <tr>\n",
       "      <th>Date_month_year</th>\n",
       "      <th></th>\n",
       "      <th></th>\n",
       "      <th></th>\n",
       "      <th></th>\n",
       "      <th></th>\n",
       "      <th></th>\n",
       "      <th></th>\n",
       "    </tr>\n",
       "  </thead>\n",
       "  <tbody>\n",
       "    <tr>\n",
       "      <th>2015-01-04</th>\n",
       "      <td>Fraudulent claims reported to collections agency</td>\n",
       "      <td>04-01-15</td>\n",
       "      <td>Customer Care Call</td>\n",
       "      <td>Atlanta</td>\n",
       "      <td>Georgia</td>\n",
       "      <td>30312</td>\n",
       "      <td>Closed</td>\n",
       "    </tr>\n",
       "    <tr>\n",
       "      <th>2015-01-04</th>\n",
       "      <td>Fradulent Services</td>\n",
       "      <td>04-01-15</td>\n",
       "      <td>Customer Care Call</td>\n",
       "      <td>Waukegan</td>\n",
       "      <td>Illinois</td>\n",
       "      <td>60085</td>\n",
       "      <td>Closed</td>\n",
       "    </tr>\n",
       "    <tr>\n",
       "      <th>2015-01-04</th>\n",
       "      <td>billing</td>\n",
       "      <td>04-01-15</td>\n",
       "      <td>Customer Care Call</td>\n",
       "      <td>Stone Mountain</td>\n",
       "      <td>Georgia</td>\n",
       "      <td>30083</td>\n",
       "      <td>Closed</td>\n",
       "    </tr>\n",
       "    <tr>\n",
       "      <th>2015-01-04</th>\n",
       "      <td>Comcast speeds as low as 12 MB/s, paying for 1...</td>\n",
       "      <td>04-01-15</td>\n",
       "      <td>Customer Care Call</td>\n",
       "      <td>Washington</td>\n",
       "      <td>Pennsylvania</td>\n",
       "      <td>15301</td>\n",
       "      <td>Closed</td>\n",
       "    </tr>\n",
       "    <tr>\n",
       "      <th>2015-01-04</th>\n",
       "      <td>comcast cable</td>\n",
       "      <td>04-01-15</td>\n",
       "      <td>Customer Care Call</td>\n",
       "      <td>Lockport</td>\n",
       "      <td>Illinois</td>\n",
       "      <td>60441</td>\n",
       "      <td>Closed</td>\n",
       "    </tr>\n",
       "    <tr>\n",
       "      <th>...</th>\n",
       "      <td>...</td>\n",
       "      <td>...</td>\n",
       "      <td>...</td>\n",
       "      <td>...</td>\n",
       "      <td>...</td>\n",
       "      <td>...</td>\n",
       "      <td>...</td>\n",
       "    </tr>\n",
       "    <tr>\n",
       "      <th>2015-05-31</th>\n",
       "      <td>Hidden Product Installation Fee</td>\n",
       "      <td>31-05-15</td>\n",
       "      <td>Customer Care Call</td>\n",
       "      <td>Camp Hill</td>\n",
       "      <td>Pennsylvania</td>\n",
       "      <td>17011</td>\n",
       "      <td>Closed</td>\n",
       "    </tr>\n",
       "    <tr>\n",
       "      <th>2015-05-31</th>\n",
       "      <td>Comcast</td>\n",
       "      <td>31-05-15</td>\n",
       "      <td>Customer Care Call</td>\n",
       "      <td>Beaverton</td>\n",
       "      <td>Oregon</td>\n",
       "      <td>97006</td>\n",
       "      <td>Open</td>\n",
       "    </tr>\n",
       "    <tr>\n",
       "      <th>2015-05-31</th>\n",
       "      <td>Comcast of East Windsor NJ Complaint</td>\n",
       "      <td>31-05-15</td>\n",
       "      <td>Internet</td>\n",
       "      <td>East Windsor</td>\n",
       "      <td>New Jersey</td>\n",
       "      <td>8520</td>\n",
       "      <td>Open</td>\n",
       "    </tr>\n",
       "    <tr>\n",
       "      <th>2015-05-31</th>\n",
       "      <td>n/a (b) (6)</td>\n",
       "      <td>31-05-15</td>\n",
       "      <td>Internet</td>\n",
       "      <td>Loganville</td>\n",
       "      <td>Georgia</td>\n",
       "      <td>30052</td>\n",
       "      <td>Open</td>\n",
       "    </tr>\n",
       "    <tr>\n",
       "      <th>2015-05-31</th>\n",
       "      <td>Questionable internet slowdown</td>\n",
       "      <td>31-05-15</td>\n",
       "      <td>Customer Care Call</td>\n",
       "      <td>Peabody</td>\n",
       "      <td>Massachusetts</td>\n",
       "      <td>1960</td>\n",
       "      <td>Closed</td>\n",
       "    </tr>\n",
       "  </tbody>\n",
       "</table>\n",
       "<p>2224 rows × 7 columns</p>\n",
       "</div>"
      ],
      "text/plain": [
       "                                                Customer Complaint      Date  \\\n",
       "Date_month_year                                                                \n",
       "2015-01-04        Fraudulent claims reported to collections agency  04-01-15   \n",
       "2015-01-04                                      Fradulent Services  04-01-15   \n",
       "2015-01-04                                                 billing  04-01-15   \n",
       "2015-01-04       Comcast speeds as low as 12 MB/s, paying for 1...  04-01-15   \n",
       "2015-01-04                                           comcast cable  04-01-15   \n",
       "...                                                            ...       ...   \n",
       "2015-05-31                         Hidden Product Installation Fee  31-05-15   \n",
       "2015-05-31                                                 Comcast  31-05-15   \n",
       "2015-05-31                    Comcast of East Windsor NJ Complaint  31-05-15   \n",
       "2015-05-31                                             n/a (b) (6)  31-05-15   \n",
       "2015-05-31                          Questionable internet slowdown  31-05-15   \n",
       "\n",
       "                       Received Via            City          State  Zip code  \\\n",
       "Date_month_year                                                                \n",
       "2015-01-04       Customer Care Call         Atlanta        Georgia     30312   \n",
       "2015-01-04       Customer Care Call        Waukegan       Illinois     60085   \n",
       "2015-01-04       Customer Care Call  Stone Mountain        Georgia     30083   \n",
       "2015-01-04       Customer Care Call      Washington   Pennsylvania     15301   \n",
       "2015-01-04       Customer Care Call        Lockport       Illinois     60441   \n",
       "...                             ...             ...            ...       ...   \n",
       "2015-05-31       Customer Care Call       Camp Hill   Pennsylvania     17011   \n",
       "2015-05-31       Customer Care Call       Beaverton         Oregon     97006   \n",
       "2015-05-31                 Internet    East Windsor     New Jersey      8520   \n",
       "2015-05-31                 Internet      Loganville        Georgia     30052   \n",
       "2015-05-31       Customer Care Call         Peabody  Massachusetts      1960   \n",
       "\n",
       "                New_Status  \n",
       "Date_month_year             \n",
       "2015-01-04          Closed  \n",
       "2015-01-04          Closed  \n",
       "2015-01-04          Closed  \n",
       "2015-01-04          Closed  \n",
       "2015-01-04          Closed  \n",
       "...                    ...  \n",
       "2015-05-31          Closed  \n",
       "2015-05-31            Open  \n",
       "2015-05-31            Open  \n",
       "2015-05-31            Open  \n",
       "2015-05-31          Closed  \n",
       "\n",
       "[2224 rows x 7 columns]"
      ]
     },
     "execution_count": 40,
     "metadata": {},
     "output_type": "execute_result"
    }
   ],
   "source": [
    "df['New_Status'] = ['Open' if Status == 'Open' or Status == 'Pending' else \"Closed\" for Status in df['Status']]\n",
    "df = df.drop(['Status'], axis = 1)\n",
    "df"
   ]
  },
  {
   "cell_type": "code",
   "execution_count": 41,
   "id": "944b7253-8ed8-4b1e-a6c2-aa2da8bb0924",
   "metadata": {},
   "outputs": [
    {
     "data": {
      "text/plain": [
       "array(['Closed', 'Open'], dtype=object)"
      ]
     },
     "execution_count": 41,
     "metadata": {},
     "output_type": "execute_result"
    }
   ],
   "source": [
    "df['New_Status'].unique()"
   ]
  },
  {
   "cell_type": "code",
   "execution_count": 43,
   "id": "92bbed6a-8421-4a28-9c26-84d3b1c1615a",
   "metadata": {},
   "outputs": [
    {
     "data": {
      "text/plain": [
       "State\n",
       "Georgia       288\n",
       "Florida       240\n",
       "California    220\n",
       "Illinois      164\n",
       "Tennessee     143\n",
       "dtype: int64"
      ]
     },
     "execution_count": 43,
     "metadata": {},
     "output_type": "execute_result"
    }
   ],
   "source": [
    "# Which State has maximun complaints\n",
    "\n",
    "df.groupby(['State']).size().sort_values(ascending = False)[:5]"
   ]
  },
  {
   "cell_type": "markdown",
   "id": "974ee654-e4fd-4e28-bfa5-12f4a1bf0691",
   "metadata": {},
   "source": [
    "# Insight : From the above table, we clearly say that Georgia State has maximum complaints."
   ]
  },
  {
   "cell_type": "markdown",
   "id": "063e3316-cb23-4a25-87e2-cafbe80f16d4",
   "metadata": {},
   "source": [
    "## Task 4 : Provide state wise status of complaints in stacked bar chart"
   ]
  },
  {
   "cell_type": "code",
   "execution_count": 48,
   "id": "46a4e16e-1627-4485-86ce-2f25d3eb3a92",
   "metadata": {},
   "outputs": [
    {
     "name": "stdout",
     "output_type": "stream",
     "text": [
      "New_Status            Closed  Open\n",
      "State                             \n",
      "Alabama                 17.0   9.0\n",
      "Arizona                 14.0   6.0\n",
      "Arkansas                 6.0   NaN\n",
      "California             159.0  61.0\n",
      "Colorado                58.0  22.0\n",
      "Connecticut              9.0   3.0\n",
      "Delaware                 8.0   4.0\n",
      "District Of Columbia    14.0   2.0\n",
      "District of Columbia     1.0   NaN\n",
      "Florida                201.0  39.0\n",
      "Georgia                208.0  80.0\n",
      "Illinois               135.0  29.0\n",
      "Indiana                 50.0   9.0\n",
      "Iowa                     1.0   NaN\n",
      "Kansas                   1.0   1.0\n",
      "Kentucky                 4.0   3.0\n",
      "Louisiana               12.0   1.0\n",
      "Maine                    3.0   2.0\n",
      "Maryland                63.0  15.0\n",
      "Massachusetts           50.0  11.0\n",
      "Michigan                92.0  23.0\n",
      "Minnesota               29.0   4.0\n",
      "Mississippi             23.0  16.0\n",
      "Missouri                 3.0   1.0\n",
      "Montana                  1.0   NaN\n",
      "Nevada                   1.0   NaN\n",
      "New Hampshire            8.0   4.0\n",
      "New Jersey              56.0  19.0\n",
      "New Mexico              11.0   4.0\n",
      "New York                 6.0   NaN\n",
      "North Carolina           3.0   NaN\n",
      "Ohio                     3.0   NaN\n",
      "Oregon                  36.0  13.0\n",
      "Pennsylvania           110.0  20.0\n",
      "Rhode Island             1.0   NaN\n",
      "South Carolina          15.0   3.0\n",
      "Tennessee               96.0  47.0\n",
      "Texas                   49.0  22.0\n",
      "Utah                    16.0   6.0\n",
      "Vermont                  2.0   1.0\n",
      "Virginia                49.0  11.0\n",
      "Washington              75.0  23.0\n",
      "West Virginia            8.0   3.0\n"
     ]
    }
   ],
   "source": [
    "Status_Complaints = df.groupby(['State', 'New_Status']).size().unstack()\n",
    "print(Status_Complaints)"
   ]
  },
  {
   "cell_type": "code",
   "execution_count": 49,
   "id": "29619a83-5f35-4d77-9948-6233cd95ddc3",
   "metadata": {},
   "outputs": [
    {
     "data": {
      "text/plain": [
       "<Axes: xlabel='State'>"
      ]
     },
     "execution_count": 49,
     "metadata": {},
     "output_type": "execute_result"
    },
    {
     "data": {
      "image/png": "[encoded data removed]",
      "text/plain": [
       "<Figure size 1000x1000 with 1 Axes>"
      ]
     },
     "metadata": {},
     "output_type": "display_data"
    }
   ],
   "source": [
    "Status_Complaints.plot.bar(figsize=(10,10),stacked=True)"
   ]
  },
  {
   "cell_type": "markdown",
   "id": "259e1647-86e9-4be1-b977-7b5b6103a0ce",
   "metadata": {},
   "source": [
    "## Insight : From the above chart we see that Georgia has maximum complaints."
   ]
  },
  {
   "cell_type": "markdown",
   "id": "814bbbd4-7050-474e-9362-c63a4d9f2fc5",
   "metadata": {},
   "source": [
    "## Task 5 : State which has the highest percentage of unresolved complaints."
   ]
  },
  {
   "cell_type": "code",
   "execution_count": 52,
   "id": "c96ef592-f779-4c4a-a501-952639c9e66e",
   "metadata": {},
   "outputs": [
    {
     "name": "stdout",
     "output_type": "stream",
     "text": [
      "New_Status\n",
      "Closed    1707\n",
      "Open       517\n",
      "Name: count, dtype: int64\n"
     ]
    }
   ],
   "source": [
    "print(df['New_Status'].value_counts())"
   ]
  },
  {
   "cell_type": "code",
   "execution_count": 55,
   "id": "76c87f39-91f3-488b-93f4-fe14fd76642a",
   "metadata": {},
   "outputs": [],
   "source": [
    "unresolved_data = df.groupby(['State','New_Status']).size().unstack().fillna(0).sort_values(by=\"Open\",ascending=False)"
   ]
  },
  {
   "cell_type": "code",
   "execution_count": 57,
   "id": "6902f649-9efc-4590-ae83-030f959350c6",
   "metadata": {},
   "outputs": [
    {
     "data": {
      "text/plain": [
       "<Axes: xlabel='State'>"
      ]
     },
     "execution_count": 57,
     "metadata": {},
     "output_type": "execute_result"
    },
    {
     "data": {
      "image/png": "[encoded data removed]",
      "text/plain": [
       "<Figure size 640x480 with 1 Axes>"
      ]
     },
     "metadata": {},
     "output_type": "display_data"
    }
   ],
   "source": [
    "unresolved_data['unresolved_complaints_perc'] = unresolved_data['Open']/ unresolved_data['Open'].sum()*100\n",
    "unresolved_data.plot()"
   ]
  },
  {
   "cell_type": "markdown",
   "id": "773f70b7-3db1-45c8-8e27-6da016ba124f",
   "metadata": {},
   "source": [
    "## Insight : From the table generated above we cam see that Georgia has maximum unresolved complaints i.e. 80"
   ]
  },
  {
   "cell_type": "markdown",
   "id": "a00fea0d-02ef-42bd-9932-0581681b347c",
   "metadata": {},
   "source": [
    "## Task 6 : Provide the percenatge of complaints resoled till date , which were received through the internet and customer care calls."
   ]
  },
  {
   "cell_type": "code",
   "execution_count": 62,
   "id": "419a36a8-c623-4514-8be0-26b284415895",
   "metadata": {},
   "outputs": [
    {
     "data": {
      "text/plain": [
       "Received Via\n",
       "Customer Care Call    50.615114\n",
       "Internet              49.384886\n",
       "Name: resolved, dtype: float64"
      ]
     },
     "execution_count": 62,
     "metadata": {},
     "output_type": "execute_result"
    }
   ],
   "source": [
    "resolved_data = df.groupby(['Received Via','New_Status']).size().unstack().fillna(0)\n",
    "resolved_data['resolved'] = resolved_data['Closed']/resolved_data['Closed'].sum()*100\n",
    "resolved_data['resolved']"
   ]
  },
  {
   "cell_type": "code",
   "execution_count": 65,
   "id": "5f343b5e-89df-49f0-9375-53aba3ccc6e1",
   "metadata": {},
   "outputs": [
    {
     "data": {
      "text/plain": [
       "<Axes: xlabel='Received Via'>"
      ]
     },
     "execution_count": 65,
     "metadata": {},
     "output_type": "execute_result"
    },
    {
     "data": {
      "image/png": "[encoded data removed]",
      "text/plain": [
       "<Figure size 500x500 with 1 Axes>"
      ]
     },
     "metadata": {},
     "output_type": "display_data"
    }
   ],
   "source": [
    "resolved_data.plot(kind=\"bar\", figsize=(5,5))"
   ]
  },
  {
   "cell_type": "markdown",
   "id": "e13aa58b-50f5-489b-a3b4-fcf0653f3fb0",
   "metadata": {},
   "source": [
    "## Insight : From the above cahrt we can clearly see there are total 50.61% complaints resolved for customer care call and 49.33% for received via internet."
   ]
  },
  {
   "cell_type": "code",
   "execution_count": null,
   "id": "484365c5-e9af-4566-b404-3cc84d1c529c",
   "metadata": {},
   "outputs": [],
   "source": []
  }
 ],
 "metadata": {
  "kernelspec": {
   "display_name": "Python 3 (ipykernel)",
   "language": "python",
   "name": "python3"
  },
  "language_info": {
   "codemirror_mode": {
    "name": "ipython",
    "version": 3
   },
   "file_extension": ".py",
   "mimetype": "text/x-python",
   "name": "python",
   "nbconvert_exporter": "python",
   "pygments_lexer": "ipython3",
   "version": "3.13.1"
  }
 },
 "nbformat": 4,
 "nbformat_minor": 5
}
